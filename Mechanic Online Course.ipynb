{
 "cells": [
  {
   "cell_type": "markdown",
   "metadata": {},
   "source": [
    "## Mechanic Online Course"
   ]
  },
  {
   "cell_type": "markdown",
   "metadata": {},
   "source": [
    "Mechanic online course wants to know whether a different approach to teaching (for an large online course) has any effect on student outcomes.\n",
    "\n",
    "Two groups (A and B)of students were randomly chosen.\n",
    "* Group A: No Practicals and test\n",
    "* Group B: Practicals and test\n",
    "\n",
    "Each group consisted of 2 categories:\n",
    "* Cat 1: No background in subject\n",
    "* Cat 2: Have background in subject 2\n",
    "\n",
    "We want to look at:\n",
    "1. Whether group B performed better, given the practical applications and regular testing.\n",
    "2. Which sub-group performed best in groups A and B respectively.\n",
    "3. What other tests would we want to run to determine which improvements we need to do on the course. \n"
   ]
  },
  {
   "cell_type": "code",
   "execution_count": 1,
   "metadata": {},
   "outputs": [],
   "source": [
    "import pandas as pd\n",
    "import numpy as np\n",
    "import matplotlib.pyplot as plt \n"
   ]
  },
  {
   "cell_type": "code",
   "execution_count": 2,
   "metadata": {},
   "outputs": [
    {
     "data": {
      "text/html": [
       "<div>\n",
       "<style scoped>\n",
       "    .dataframe tbody tr th:only-of-type {\n",
       "        vertical-align: middle;\n",
       "    }\n",
       "\n",
       "    .dataframe tbody tr th {\n",
       "        vertical-align: top;\n",
       "    }\n",
       "\n",
       "    .dataframe thead th {\n",
       "        text-align: right;\n",
       "    }\n",
       "</style>\n",
       "<table border=\"1\" class=\"dataframe\">\n",
       "  <thead>\n",
       "    <tr style=\"text-align: right;\">\n",
       "      <th></th>\n",
       "      <th>Unnamed: 0</th>\n",
       "      <th>value</th>\n",
       "      <th>test</th>\n",
       "      <th>sub_group</th>\n",
       "    </tr>\n",
       "  </thead>\n",
       "  <tbody>\n",
       "    <tr>\n",
       "      <th>0</th>\n",
       "      <td>1</td>\n",
       "      <td>1.481962</td>\n",
       "      <td>A</td>\n",
       "      <td>1</td>\n",
       "    </tr>\n",
       "    <tr>\n",
       "      <th>1</th>\n",
       "      <td>2</td>\n",
       "      <td>1.201471</td>\n",
       "      <td>B</td>\n",
       "      <td>1</td>\n",
       "    </tr>\n",
       "    <tr>\n",
       "      <th>2</th>\n",
       "      <td>3</td>\n",
       "      <td>-0.832956</td>\n",
       "      <td>B</td>\n",
       "      <td>1</td>\n",
       "    </tr>\n",
       "    <tr>\n",
       "      <th>3</th>\n",
       "      <td>4</td>\n",
       "      <td>0.690690</td>\n",
       "      <td>A</td>\n",
       "      <td>1</td>\n",
       "    </tr>\n",
       "    <tr>\n",
       "      <th>4</th>\n",
       "      <td>5</td>\n",
       "      <td>0.266877</td>\n",
       "      <td>A</td>\n",
       "      <td>2</td>\n",
       "    </tr>\n",
       "  </tbody>\n",
       "</table>\n",
       "</div>"
      ],
      "text/plain": [
       "   Unnamed: 0     value test  sub_group\n",
       "0           1  1.481962    A          1\n",
       "1           2  1.201471    B          1\n",
       "2           3 -0.832956    B          1\n",
       "3           4  0.690690    A          1\n",
       "4           5  0.266877    A          2"
      ]
     },
     "execution_count": 2,
     "metadata": {},
     "output_type": "execute_result"
    }
   ],
   "source": [
    "df = pd.read_csv('test_data.csv')\n",
    "df.head()"
   ]
  },
  {
   "cell_type": "code",
   "execution_count": 3,
   "metadata": {},
   "outputs": [],
   "source": [
    "#we want to seperate the dataset by groups. \n",
    "#I used the upper() function to help me make sure that the values in the column are all caps, this will help us identify the groups in the data better.\n",
    "\n",
    "group_B = df[df['test'].str.upper() == 'B' ]\n",
    "group_A = df[df['test'].str.upper() == 'A' ]\n"
   ]
  },
  {
   "cell_type": "markdown",
   "metadata": {},
   "source": [
    "Here we will compare the overrall growth in interest in group A and B"
   ]
  },
  {
   "cell_type": "code",
   "execution_count": 4,
   "metadata": {},
   "outputs": [
    {
     "name": "stdout",
     "output_type": "stream",
     "text": [
      "Group A 1922 \n",
      " Group B 1870\n"
     ]
    },
    {
     "data": {
      "image/png": "[encoded data removed]",
      "text/plain": [
       "<Figure size 432x288 with 1 Axes>"
      ]
     },
     "metadata": {
      "needs_background": "light"
     },
     "output_type": "display_data"
    }
   ],
   "source": [
    "#we sum up the value column and round it off.\n",
    "\n",
    "group_B_sum = round(sum(group_B['value'], 1))\n",
    "group_A_sum = round(sum(group_A['value'],1))\n",
    "print('Group A ' + str(group_A_sum), '\\n','Group B ' + str(group_B_sum))\n",
    "\n",
    "#lets see how the results look like on a graph\n",
    "data = group_A_sum, group_B_sum\n",
    "plt.barh(y = ['Group_A', 'Group_B'] , width= data)\n",
    "plt.show()"
   ]
  },
  {
   "cell_type": "markdown",
   "metadata": {},
   "source": [
    "The difference between the two groups is 52. \n",
    "\n",
    "Group A performed better than group B by ***2.7%***  this is a small difference but it tells us that students perform better with a course that doesn't have practical applications and regular testing. \n",
    "\n",
    "This makes sense because students in group B might have experienced test anxiety. This could have hindered some students from performing well. similar studies have been conducted to prove that test anxiety can lower the performance of students (https://onlinelibrary.wiley.com/doi/abs/10.1002/1520-6807(197807)15:3%3C446::AID-PITS2310150326%3E3.0.CO;2-B). \n",
    "\n",
    "In order for us to investigate if the students in group B were experiencing test anxiety, we need to run the test again. But this time we need to collect data on how the students feel before doing practicals and taking tests. "
   ]
  },
  {
   "cell_type": "markdown",
   "metadata": {},
   "source": [
    "### Let us see how the sub groups performed. "
   ]
  },
  {
   "cell_type": "code",
   "execution_count": 5,
   "metadata": {},
   "outputs": [
    {
     "name": "stdout",
     "output_type": "stream",
     "text": [
      "Group A Sub-Group 1 had a performance of: 691 \n",
      "  Group A Sub-Group 2 had a performance of: 1231\n"
     ]
    },
    {
     "data": {
      "image/png": "[encoded data removed]",
      "text/plain": [
       "<Figure size 432x288 with 1 Axes>"
      ]
     },
     "metadata": {
      "needs_background": "light"
     },
     "output_type": "display_data"
    }
   ],
   "source": [
    "group_A_sub_1 , group_A_sub_2 = group_A[group_A['sub_group'] == 1] , group_A[group_A['sub_group'] == 2]\n",
    "\n",
    "group_A_sub_1 , group_A_sub_2 = round(sum(group_A_sub_1['value'], 1)) ,round(sum(group_A_sub_2['value'], 1))\n",
    "\n",
    "print('Group A Sub-Group 1 had a performance of: ' + str(group_A_sub_1) ,'\\n',' Group A Sub-Group 2 had a performance of: ' + str(group_A_sub_2))\n",
    "\n",
    "#lets see how the results look like on a graph\n",
    "data = group_A_sub_1 , group_A_sub_2\n",
    "plt.barh(y = ['Sub-Group 1', 'Sub-Group 2'] , width= data)\n",
    "plt.show()"
   ]
  },
  {
   "cell_type": "code",
   "execution_count": 6,
   "metadata": {},
   "outputs": [
    {
     "name": "stdout",
     "output_type": "stream",
     "text": [
      "Group B Sub-Group 1 had a performance of: 612 \n",
      " Group B Sub-Group 2 had a performance of: 1259\n"
     ]
    },
    {
     "data": {
      "image/png": "[encoded data removed]",
      "text/plain": [
       "<Figure size 432x288 with 1 Axes>"
      ]
     },
     "metadata": {
      "needs_background": "light"
     },
     "output_type": "display_data"
    }
   ],
   "source": [
    "group_B_sub_1 , group_B_sub_2 = group_B[group_B['sub_group'] == 1] , group_B[group_B['sub_group'] == 2]\n",
    "\n",
    "group_B_sub_1 , group_B_sub_2 = round(sum(group_B_sub_1['value'], 1)) ,round(sum(group_B_sub_2['value'], 1))\n",
    "\n",
    "print('Group B Sub-Group 1 had a performance of: ' + str(group_B_sub_1) ,'\\n', 'Group B Sub-Group 2 had a performance of: ' + str(group_B_sub_2))\n",
    "\n",
    "#lets see how the results look like on a graph\n",
    "data = group_B_sub_1 , group_B_sub_2\n",
    "plt.barh(y = ['Sub-Group 1', 'Sub-Group 2'] , width= data) \n",
    "plt.show()"
   ]
  },
  {
   "cell_type": "code",
   "execution_count": 16,
   "metadata": {},
   "outputs": [
    {
     "data": {
      "text/plain": [
       "[[691, 1231], [612, 1259]]"
      ]
     },
     "execution_count": 16,
     "metadata": {},
     "output_type": "execute_result"
    }
   ],
   "source": [
    "two_way_table = [[group_A_sub_1 , group_A_sub_2],\n",
    "                [group_B_sub_1 , group_B_sub_2]]\n",
    "two_way_table"
   ]
  },
  {
   "cell_type": "code",
   "execution_count": 17,
   "metadata": {},
   "outputs": [
    {
     "data": {
      "text/html": [
       "<div>\n",
       "<style scoped>\n",
       "    .dataframe tbody tr th:only-of-type {\n",
       "        vertical-align: middle;\n",
       "    }\n",
       "\n",
       "    .dataframe tbody tr th {\n",
       "        vertical-align: top;\n",
       "    }\n",
       "\n",
       "    .dataframe thead th {\n",
       "        text-align: right;\n",
       "    }\n",
       "</style>\n",
       "<table border=\"1\" class=\"dataframe\">\n",
       "  <thead>\n",
       "    <tr style=\"text-align: right;\">\n",
       "      <th></th>\n",
       "      <th>No background</th>\n",
       "      <th>Background</th>\n",
       "      <th>Total</th>\n",
       "    </tr>\n",
       "  </thead>\n",
       "  <tbody>\n",
       "    <tr>\n",
       "      <th>No tests</th>\n",
       "      <td>691</td>\n",
       "      <td>1231</td>\n",
       "      <td>1922</td>\n",
       "    </tr>\n",
       "    <tr>\n",
       "      <th>Tests and Practical</th>\n",
       "      <td>612</td>\n",
       "      <td>1259</td>\n",
       "      <td>1871</td>\n",
       "    </tr>\n",
       "  </tbody>\n",
       "</table>\n",
       "</div>"
      ],
      "text/plain": [
       "                     No background  Background  Total\n",
       "No tests                       691        1231   1922\n",
       "Tests and Practical            612        1259   1871"
      ]
     },
     "execution_count": 17,
     "metadata": {},
     "output_type": "execute_result"
    }
   ],
   "source": [
    "columns = ['No background', 'Background']\n",
    "two_way_table = pd.DataFrame(two_way_table, columns = columns, \n",
    "                             index = ['No tests', 'Tests and Practical'])\n",
    "two_way_table['Total']  = [(group_A_sub_1 + group_A_sub_2), (group_B_sub_1 + group_B_sub_2)]\n",
    "\n",
    "two_way_table"
   ]
  },
  {
   "cell_type": "markdown",
   "metadata": {},
   "source": [
    "## Insight, Learnings and Recommendations \n"
   ]
  },
  {
   "cell_type": "markdown",
   "metadata": {},
   "source": [
    "Looking at the \"two-way_table\" above, we have an over view of the overrall performance of the two groups and sub_groups. \n",
    "\n",
    "##### Learnings\n",
    "\n",
    "1. Students in group A performed better than group B by **2.7%** over all.\n",
    "2. Students that had a background in mechenics out performed those that didn't by **47.7%** in both groups\n",
    "3. students in Group B that had a background in the course outperformed all sub-groups. \n",
    "\n",
    "##### Insight\n",
    "\n",
    "By conducting this study we were able to identify the following:\n",
    "\n",
    "* Group A's overall performance is better than Group B's overall performance.\n",
    "* Students in sub-group 2, for both groups, performed much better than those in sub-group 1.\n",
    "\n",
    "Students in **Group B** (overrall) performed poorly () even though sub-group B-2 out performed all other sub-groups.\n",
    "\n",
    "* Possible reasons for sub-group B-1's low performance:\n",
    "    * test anxiety.\n",
    "    * Lack of context\n",
    "    * Focus more on the test scope rather than understanding the subject\n",
    "\n",
    "\n",
    "In general we would want students to perform like students in **Group A**, this learning method is more relaxed and less stressful, unlike having tests which in the long run might create negativity and animosity. \n",
    "\n",
    "I believe that the best performing group was in **Group b, sub-group 2**, these learners have contexual understanding in the topic and they performed better than any sub-group because they were more confident. \n",
    "\n",
    "##### Recommendations\n",
    "\n",
    "We might need to further investigate why studnets in group B didn't perform well. A lot can affect their performance like poor network, lack of discipline and time managemnt, and language barrier. \n",
    "\n",
    "Collecting information like:\n",
    "* Network speed - knowing this will help us determine the likelihood of a student performing poorly\n",
    "* Demographic information - this will help futher investiate if things like gender, age, background have an effect on the likelihood of a student succeeding of failing. \n",
    "\n",
    "\n",
    "In the nexxt test we moght want to add personal interaction like:\n",
    "* Mentor and student one-on-one sessions. \n",
    "* Peer to peer group sharing sessions. Try to disribute the top performsers among the groups and periodically shuffle groups \n",
    "* Sharing best performing students marks, to help create a healthy competetive environment to encourge students to perform better. "
   ]
  },
  {
   "cell_type": "code",
   "execution_count": null,
   "metadata": {},
   "outputs": [],
   "source": []
  }
 ],
 "metadata": {
  "kernelspec": {
   "display_name": "Python 3",
   "language": "python",
   "name": "python3"
  },
  "language_info": {
   "codemirror_mode": {
    "name": "ipython",
    "version": 3
   },
   "file_extension": ".py",
   "mimetype": "text/x-python",
   "name": "python",
   "nbconvert_exporter": "python",
   "pygments_lexer": "ipython3",
   "version": "3.7.3"
  }
 },
 "nbformat": 4,
 "nbformat_minor": 2
}
